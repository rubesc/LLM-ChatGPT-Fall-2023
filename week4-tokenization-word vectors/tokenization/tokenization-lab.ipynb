{
 "cells": [
  {
   "cell_type": "markdown",
   "id": "200cde67",
   "metadata": {},
   "source": [
    "## Ngrams lab\n",
    "LLM's and ChatGPT | Fall 2023 | McSweeney | CUNY Graduate Center\n",
    "\n",
    "**Due:** September 17\n",
    "\n",
    "\n",
    "### Background\n",
    "The purpose of this lab is to explore different tokenization methods. On their own, tokenization methods don't do much. However, they are the starting place for all natural language processing. \n",
    "\n",
    "\n",
    "#### Notes\n",
    "This is a short lab using the same dataset throughout. Feel free to switch it up, but once you are comfortable with how the different alogorithms approach the task of breaking up text, move on. "
   ]
  },
  {
   "cell_type": "markdown",
   "id": "bd47efac",
   "metadata": {},
   "source": [
    "You will be using the `datasets` package. You can [install the package](https://pypi.org/project/datasets/) with `$ pip install datasets`. If you do not have `pip` or `conda` installed on your machine, please install it now."
   ]
  },
  {
   "cell_type": "code",
   "execution_count": 40,
   "id": "5c7e72fd",
   "metadata": {},
   "outputs": [],
   "source": [
    "import nltk\n",
    "import timeit\n",
    "\n",
    "from datasets import load_dataset"
   ]
  },
  {
   "cell_type": "markdown",
   "id": "420d2c62",
   "metadata": {},
   "source": [
    "The next cell is just downloading the dataset. You need to be connected to the internet for this to work. \n",
    "\n",
    "This dataset is hosted by [Hugging Face](https://huggingface.co). Hugging Face hosts machine learning models, datasets, and more. We will reference them again. It's a great place to find corpora. \n",
    "\n",
    "\n",
    "The dataset is called [American Stories](https://huggingface.co/datasets/dell-research-harvard/AmericanStories). Please skim the Dataset Card. All models and datasets on the Hugging Face hub have these associated cards. "
   ]
  },
  {
   "cell_type": "code",
   "execution_count": 42,
   "id": "a36427c2",
   "metadata": {},
   "outputs": [
    {
     "name": "stderr",
     "output_type": "stream",
     "text": [
      "Found cached dataset american_stories (/Users/michellemcsweeney/.cache/huggingface/datasets/dell-research-harvard___american_stories/subset_years-7b1171f4e7c0f383/0.1.0/75a916c5166c4f1fe51a57e0f5074cc72e19157c2bb064a2dc3e6362e19892fb)\n"
     ]
    },
    {
     "data": {
      "application/vnd.jupyter.widget-view+json": {
       "model_id": "a6120bef756a4e118cfe2efe9818738a",
       "version_major": 2,
       "version_minor": 0
      },
      "text/plain": [
       "  0%|          | 0/1 [00:00<?, ?it/s]"
      ]
     },
     "metadata": {},
     "output_type": "display_data"
    },
    {
     "name": "stdout",
     "output_type": "stream",
     "text": [
      "SAN FRANCISCO. Nov. 10\n",
      "(AP).-Alvin Dark made his\n",
      "first decisions yesterday as\n",
      "manager Of the San Fra\n"
     ]
    }
   ],
   "source": [
    "# Decide what year you want between 1810 and 1963\n",
    "\n",
    "my_year = \"1960\"\n",
    "\n",
    "# Decide how many articles you want to work with\n",
    "num_articles = 10\n",
    "\n",
    "#  Download data for your choice of year (1810 to 1963)\n",
    "dataset = load_dataset(\"dell-research-harvard/AmericanStories\",\n",
    "    \"subset_years\",\n",
    "    year_list=[my_year]\n",
    ")\n",
    "\n",
    "# Get the first n articles from that year\n",
    "# instantiate the counter\n",
    "i=0\n",
    "# instantiate the string\n",
    "my_articles = ''\n",
    "# loop through each article for that year\n",
    "for article in dataset[my_year]:\n",
    "    #the article is a dictionary, \n",
    "    #we're getting the text of the article by accessing the key, \"article\"\n",
    "    my_articles += article.get('article')\n",
    "    #add one to our counter\n",
    "    i+=1\n",
    "    #if the counter is greater than num_articles-1, stop looping\n",
    "    if i>(num_articles-1): break\n",
    "    \n",
    "#validate that it is what we expect by checking on first 100 characters\n",
    "print(my_articles[:1000])\n"
   ]
  },
  {
   "cell_type": "code",
   "execution_count": 3,
   "id": "2de5a622",
   "metadata": {},
   "outputs": [
    {
     "data": {
      "text/plain": [
       "\"SAN FRANCISCO. Nov. 10 (AP).-Alvin Dark made his first decisions yesterday as manager Of the San Francisco Giants. He hired two former teammates as coaches.   Dark was signed last week, Yesterday he selected Larry Jansen and Whitley Lockman and retained Yves Westrum and Salty Parker for his coaching staff. Bill Posedel was re- leased to make way for Jansen as boss Of the bullpen.   Dark. Jansen and Lockman- stars when they played for the Giants have a lot in common They have regulations al gentlemen, quiet craftsmen whc let their feats on the field speal for them.   Dark hit 1922 in his rookie season with the Boston Brave. and was named rookie of thu year l948 by the major league baseball writer's.   AS lean. smiling youngstel of 18, Lockman stepped intC Mel Otis No. 3 batting spot IL midsummer Of 1945 anchead last Saturday when Mon treal lost in q cup playoff with out throwing a pass In the last half. Moss said it was because of Etcheverry's sore arm. The player said his arm was SOUND\""
      ]
     },
     "execution_count": 3,
     "metadata": {},
     "output_type": "execute_result"
    }
   ],
   "source": [
    "#remove new line and other formatting characters\n",
    "for char in [\"\\n\", \"\\r\", \"\\d\", \"\\t\"]:\n",
    "    my_articles = my_articles.replace(char, \" \")\n",
    "my_articles[:1000]"
   ]
  },
  {
   "cell_type": "markdown",
   "id": "7e522efd",
   "metadata": {},
   "source": [
    "# Whitespace tokenization\n"
   ]
  },
  {
   "cell_type": "code",
   "execution_count": 4,
   "id": "00d1404f",
   "metadata": {},
   "outputs": [
    {
     "name": "stdout",
     "output_type": "stream",
     "text": [
      "CPU times: user 53 µs, sys: 9 µs, total: 62 µs\n",
      "Wall time: 68.2 µs\n"
     ]
    },
    {
     "data": {
      "text/plain": [
       "['SAN',\n",
       " 'FRANCISCO.',\n",
       " 'Nov.',\n",
       " '10',\n",
       " '(AP).-Alvin',\n",
       " 'Dark',\n",
       " 'made',\n",
       " 'his',\n",
       " 'first',\n",
       " 'decisions',\n",
       " 'yesterday',\n",
       " 'as',\n",
       " 'manager',\n",
       " 'Of',\n",
       " 'the',\n",
       " 'San',\n",
       " 'Francisco',\n",
       " 'Giants.',\n",
       " 'He',\n",
       " 'hired']"
      ]
     },
     "execution_count": 4,
     "metadata": {},
     "output_type": "execute_result"
    }
   ],
   "source": [
    "%%time\n",
    "#this is a magic function to determine how long a cell takes to run. \n",
    "#It MUST be the first thing in a cell\n",
    "\n",
    "#split the whole string on spaces. This returns a list\n",
    "whitespace_tokens = my_articles.split(' ')\n",
    "\n",
    "#check the list\n",
    "whitespace_tokens[:20]"
   ]
  },
  {
   "cell_type": "markdown",
   "id": "4bb27496",
   "metadata": {},
   "source": [
    "Note: \"µs\" is microseconds, or a millionth of a second 1/1,000,000"
   ]
  },
  {
   "cell_type": "markdown",
   "id": "5d4bf8ea",
   "metadata": {},
   "source": [
    "# Morphological Tokenization \n",
    "\n",
    "Lemmatizing is the process of breaking down text into tokens by first breaking it up into \"words\" and then using syntactic knowledge of the language (in this case, English) to break up the words. \n",
    "\n",
    "Princeton maintains the [morphy project](https://wordnet.princeton.edu/documentation/morphy7wn#:~:text=Morphology%20in%20WordNet%20uses%20two,word%20that%20is%20in%20WordNet.), which powers `nltk`'s [WordNet Lemmatizer](https://www.nltk.org/api/nltk.stem.wordnet.html). You do NOT need to read this entire documentation, just acknowledge that it requires a significant amount of knowledge about English in order to make it work. "
   ]
  },
  {
   "cell_type": "code",
   "execution_count": 11,
   "id": "108e29a8",
   "metadata": {},
   "outputs": [],
   "source": [
    "#This lemmatizer is based on the Morphy project above\n",
    "from nltk.stem import WordNetLemmatizer\n",
    " \n",
    "#Uncomment these two lines - you may need to download these, maybe not. \n",
    "#nltk.download('wordnet')\n",
    "#nltk.download('omw-1.4')\n",
    "wn_lemmatizer = WordNetLemmatizer()"
   ]
  },
  {
   "cell_type": "code",
   "execution_count": 14,
   "id": "16560507",
   "metadata": {},
   "outputs": [
    {
     "name": "stdout",
     "output_type": "stream",
     "text": [
      "CPU times: user 18.8 ms, sys: 1.56 ms, total: 20.4 ms\n",
      "Wall time: 19.4 ms\n"
     ]
    },
    {
     "data": {
      "text/plain": [
       "['SAN',\n",
       " 'FRANCISCO.',\n",
       " 'Nov.',\n",
       " '10',\n",
       " '(AP).-Alvin',\n",
       " 'Dark',\n",
       " 'made',\n",
       " 'his',\n",
       " 'first',\n",
       " 'decision',\n",
       " 'yesterday',\n",
       " 'a',\n",
       " 'manager',\n",
       " 'Of',\n",
       " 'the',\n",
       " 'San',\n",
       " 'Francisco',\n",
       " 'Giants.',\n",
       " 'He',\n",
       " 'hired']"
      ]
     },
     "execution_count": 14,
     "metadata": {},
     "output_type": "execute_result"
    }
   ],
   "source": [
    "%%time\n",
    "\n",
    "#first we have to split the string on spaces to get \"words\"\n",
    "whitespace_tokens = my_articles.split(' ')\n",
    "\n",
    "my_lemmas = []\n",
    "for word in whitespace_tokens:\n",
    "    w = wn_lemmatizer.lemmatize(word)\n",
    "    my_lemmas.append(w)\n",
    "my_lemmas[:20]"
   ]
  },
  {
   "cell_type": "markdown",
   "id": "883aa4ba",
   "metadata": {},
   "source": [
    "Notice how much time it takes to tokenize on whitespace versus using morphological rules. Also notice if it produced the output you expected. Sometimes it doesn't. \n",
    "\n",
    "ms is a millisecond, or one one thousandth of a second 1/1,000"
   ]
  },
  {
   "cell_type": "markdown",
   "id": "12d79061",
   "metadata": {},
   "source": [
    "# Byte Pair Encoding"
   ]
  },
  {
   "cell_type": "markdown",
   "id": "962f282d",
   "metadata": {},
   "source": [
    "There are two implementations of BPE here. The first [uses a package (bpe)](https://github.com/soaxelbrooke/python-bpe) that you will have to install using `pip` (see above). \n",
    "\n",
    "This will implement the algorithm we covered in class and that you can review at [Hugging Face](https://youtu.be/HEikzVL-lZU)."
   ]
  },
  {
   "cell_type": "code",
   "execution_count": 16,
   "id": "3f1639f3",
   "metadata": {},
   "outputs": [],
   "source": [
    "from bpe import Encoder\n"
   ]
  },
  {
   "cell_type": "code",
   "execution_count": 38,
   "id": "8857be2b",
   "metadata": {},
   "outputs": [
    {
     "name": "stdout",
     "output_type": "stream",
     "text": [
      "CPU times: user 13.1 ms, sys: 1.11 ms, total: 14.2 ms\n",
      "Wall time: 13.5 ms\n"
     ]
    }
   ],
   "source": [
    "%%time\n",
    "whitespace_tokens = my_articles.split(' ')\n",
    "\n",
    "# calling the Encoder algorithm\n",
    "# we've specified 100 token vocab and 95% to be tokenized\n",
    "# the other 5% is transformed into UNK\n",
    "encoder = Encoder(100, pct_bpe=0.95)\n",
    "encoder.fit(whitespace_tokens)"
   ]
  },
  {
   "cell_type": "code",
   "execution_count": 39,
   "id": "ae30d518",
   "metadata": {},
   "outputs": [
    {
     "name": "stdout",
     "output_type": "stream",
     "text": [
      "san francisco . nov . 1__unk __unk ap __unk__unk- alvin dark made his first decisions yesterday as manager of the san francisco giants . he hired two former teammates as coaches . dark was signed last week , yesterday he selected larry __unkansen and whitley lockman and retained yves westrum and salty parker for his coaching staff . bill posedel was re - leased to make way for __unkansen as boss of the bullpen . dark . __unkansen and lockman - stars when they played for the giants have a lot in common they have regulations al gentlemen , __unkuiet craftsmen whc let their feats on the field speal for them . dark hit 1__unk__unk__unk in his rookie season with the boston brave . and was named rookie of thu year l__unk__unk__unk by the ma__unkor league baseball writer ' s . as lean . smiling youngstel of 1__unk , lockman stepped intc mel otis no . __unk batting spot il midsummer of 1__unk__unk__unk anchead last saturday when mon treal lost in __unk cup playoff with out throwing a pass in the last half . moss said it was because of etcheverry ' s sore arm . the player said his arm was sound . player of the year in 1__unk__unk__unk , and a several - time all - star choice . etcheverry has collected every canadian football honor but one - that of directing a national championship club . he led montreal into the national playoff , the grey cup game , three years in a row , l__unk__unk__unk - __unk__unk - __unk__unk , but each time montreal lost 1__unk edmonton . there ' s __unkust no place like home as far as the chicago black hawks are concerned . the black hawks moved into first place in the national hook ey league last night with a __unk__unk victory over the toronto maple leafs in chicago . the detroit red wings scored three times in the last period to edge the rangers , as . in new york in the only other game played . the hustling black hawks re - manned unbeaten on chicago ice this season as goalie glenn hall fashioned his second shut out . in seven games at home chicago has won five time and tied two . on the road the black hawks are __unk - __unk - __unk . the red wings climbed into a tie for second place with the idle montreal canadiens , who dropped out of undisputed pos session of first place . chicago leads with 1__unk points . detroit and montreal have ii each . wilt chamberlain keeps on scoring baskets and the phila - delphia warriors keep on win ming games . that ' s been the theme of the national basket ball association season so far . chamberlain amassed __unk__unk points last night as the streak ing warriors defeated the los angeles lakers . l__unk__unk - 1l__unk , for their seventh consecutive vic tory . the philadelphia - los angeles game was the opener of a doubleheader at st . louis . in the second game , the hawks posted their fifth straight triumph in beating the detroit pistons , l__unk__unk - 1__unk__unk . the prolific chamberlain ' s scoring output was the highest individual effort of the season wilt also had the season __unk previous high of a . chamberlain ' s appoint har - vest was not the best of his pre - career . the __unk - foot - 1 chamber . lain , the defending scoring champion , twice clicked for __unk1 points last season and he seem . to be a good bet to crack the e__unkisting individual game mari of __unk__unk points . held by elgir baylor of the lakers . baylor kept los angeles ir contention with __unk__unk points , in . icluding l__unk - for - 1__unk from the free throw line . chamberlain , or the other hand , sank only free throws in is attempts , but connected for __unk__unk field goals . los angeles managed to sta __unk with the warriors most of tn , way and the teams entered the final period tied . philadelphia finally sealed the verdict in tht final three minutes with __unk 1__unk __unk tear . bob pettit ' s __unk__unk points spear . headed the hawks . who wer ' without the services of clyd ' lovellette , sidelined with __unk bruised hip . st . louis out scored the pistons , 1__unk__unk__unk , in tn , third period to open up al l__unk - point lead before detroi closed the gap in the fina __unkuarter . cliff hagan contributed __unk points to the hawks attack five piston players hit doubl figures , headed by gene shue ' __unk__unk . raped a home run the first time he faced a ma__unkor league pitcher . __unkansen ' s big league debut was one of the most heart warming ever . 1t took the big highlander seven years to get his first crack at the ma__unkors . when 1t finally came , after a __unk__unk - __unk season with san francisco of the pacific coast league , __unkansen ran into dismal luck . pitching against cleveland in a spring e__unkhibition game , __unkan sen was struck by a line drive hit by bob feller and suffered a fractured __unkaw . larry missed the first si__unk weeks of the l__unk__unk__unk season . he finally got his chance on may __unk__unk , pitched and won his first giant game and went on to a __unkl - __unk record , best in the ma__unkor leagues that season . dark , lockman , __unkansen and westrum were all key figures that october day in 1__unk__unk1 when bobby thomson ' s home run beat the brooklyn dodgers ir a national league playof and gave the giants their first pennant in ia years . e__unkually as important as all the other factors of the bowling motion in a good delivery is the follow - through with the hand and arm . after the ball leaves the hand on every shot the arm which has been perfectly straight throughout the entire backswing will now bend slightly at the elbow into the follow - through as 1t continues straight out in front of the body and on up to shoul - der level . never pull the arm to your left side or angle it of to the right . always stretch 1t out in front of you as though you were reaching for the target . the right leg , e__unktended swings slightly around behind the left and the left arm as sumes a comfortable position for perfect body balance . a good follow - through will direct the ball to the spot you have selected and enable the ball to roll more accurately . if the follow - through is abrupt or short , you will tend to pull the ball or it may cause you tc drop it sooner than you should do not snap or __unkerk ball al point of delivery . this tends tc place an e__unkcessive amount oi spin on the ball , causing it tt curve undesirably . __unk duckpin bowling councidnewport brings you all these famous chry__unkler benefits room . chysler seats are five feet wide , enough for adults to travel in unwrinkied ease . unibody design permits more efficient use of interior space . door openings are wide for easy entry and e__unkit . you rela__unk as you ride . montreal , nov . 1__unk __unk ap __unk__unk- canadian pro football fans still were shaking their heads in dis belief today over the trade send ing montreal ' s sam etcheverry and hal patterson to the hamilton tiger - cats for two players . ofiicials of the toronto argonauts and ottawa rough riders . the other teams in the big four league . e__unkpressed ama__unkement at the deal , in which the alouettes ac__unkuired __unkuarterback bernie faloney . former maryland star . and de - fensive end ron pa__unkuette , a canadian . a comparable deal in united states pro football would be if the baltimore colts sent __unkuarterback __unkohn unitas and end ray berry to tailend club for a pair of regulars . etcheverry . a __unkuarterback who played his college ball at denver , and patterson , a kansas end , were believed to be at outs with perry , __unk__unk - year - old general manager and rookie coach of the alouettes . such comments as __unk are they cra__unky __unk__unk and what ' s really be - hind it __unk__unk were voiced by fans on learning of the swap . one critic commented __unk ii think the whole thing must result from a bet by moss and coach __unkim trimble of hamil - ton on the united states elec - tions - and moss lost __unk moss said he reali__unkes etche - very and patterson are great individual stars , but added the team record the last four years hadn ' t reflected their personal ability . we ' re picking a player who can run with the football __unk he said . i ' ve needed a defensive end . i can guarantee one thing __unk we ' ll have a better won lost record ne__unkt year . etcheverry ' s wife said he didn ' t get along we ' ll with moss patterson a few weeks age angrily walked out on a prac - tice . the reported row came to acontinued from page c - l with the children and doing __unk bit of hunting . said he was sorry to see casey stengel leave the yankees . but added that __unk as long as he had to go they couldn ' t have picked a better man than ralph houk __unk__unk following robinson in the voting were minnie ' minoso chicago . l__unkl __unk ron hansen baltimore , ito __unk al smith . chi . cago . __unk__unk __unk roy sewers , chicago so __unk earl battey , washington __unk1 __unk bill skowron . new york , __unk__unk and __unkim lemon , washington , sc nellie fo__unk . the chicago white so__unk second basemar who won 1__unk__unk__unk mvp honors polled only ii points this yeareastern division\n"
     ]
    }
   ],
   "source": [
    "#print(encoder.tokenize(my_articles))\n",
    "\n",
    "print(next(encoder.inverse_transform(encoder.transform([my_articles]))))"
   ]
  },
  {
   "cell_type": "code",
   "execution_count": null,
   "id": "90324f0e",
   "metadata": {},
   "outputs": [],
   "source": []
  }
 ],
 "metadata": {
  "kernelspec": {
   "display_name": "Python 3 (ipykernel)",
   "language": "python",
   "name": "python3"
  },
  "language_info": {
   "codemirror_mode": {
    "name": "ipython",
    "version": 3
   },
   "file_extension": ".py",
   "mimetype": "text/x-python",
   "name": "python",
   "nbconvert_exporter": "python",
   "pygments_lexer": "ipython3",
   "version": "3.11.3"
  }
 },
 "nbformat": 4,
 "nbformat_minor": 5
}
