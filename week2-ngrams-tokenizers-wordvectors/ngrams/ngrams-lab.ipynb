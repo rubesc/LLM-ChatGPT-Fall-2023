{
 "cells": [
  {
   "cell_type": "markdown",
   "id": "a51f17aa",
   "metadata": {},
   "source": [
    "## Ngrams lab\n",
    "LLM's and ChatGPT | Fall 2023 | McSweeney | CUNY Graduate Center\n",
    "\n",
    "**Due:** September 17\n",
    "\n",
    "\n",
    "### Background\n",
    "The purpose of this lab is to explore ngram models. Ngram models are a good introduction to language models generally. Language models are probabilistic representations of language. Ngrams have the benefit of being easy to interrogate and relatively easy to understand (as compared to neural networks). \n",
    "\n",
    "In this lab, you will build an ngram model from the corpus of your choosing. The example is with 'The Great Gatsby' from Project Gutenberg, but there's a code block for any text file on your computer  \n",
    "\n",
    "\n",
    "#### Notes\n",
    "This lab is based heavily on the [nltk documentation](https://www.nltk.org/api/nltk.lm.html)"
   ]
  },
  {
   "cell_type": "code",
   "execution_count": 1,
   "id": "ef35858b",
   "metadata": {},
   "outputs": [],
   "source": [
    "import numpy as np\n",
    "import re\n",
    "\n",
    "import nltk\n",
    "# if you haven't downloaded punkt before, you only need to run the line below once \n",
    "#nltk.download('punkt')\n",
    "from nltk import word_tokenize\n",
    "from nltk import sent_tokenize\n",
    "\n",
    "from nltk.util import bigrams\n",
    "from nltk.lm.preprocessing import padded_everygram_pipeline\n",
    "\n",
    "import requests"
   ]
  },
  {
   "cell_type": "markdown",
   "id": "e7017636",
   "metadata": {},
   "source": [
    "# Part 1\n",
    "An example of how ngrams are generated"
   ]
  },
  {
   "cell_type": "code",
   "execution_count": 2,
   "id": "de8054bf",
   "metadata": {},
   "outputs": [
    {
     "name": "stdout",
     "output_type": "stream",
     "text": [
      "﻿The Project Gutenberg eBook of The Great Gatsby        This ebook is for the use of anyone anywhere\n"
     ]
    }
   ],
   "source": [
    "# you will need to leverage the requests package\n",
    "r = requests.get(r'https://www.gutenberg.org/cache/epub/64317/pg64317.txt')\n",
    "great_gatsby = r.text\n",
    "\n",
    "# first, remove unwanted new line and tab characters from the text\n",
    "for char in [\"\\n\", \"\\r\", \"\\d\", \"\\t\"]:\n",
    "    great_gatsby = great_gatsby.replace(char, \" \")\n",
    "\n",
    "# check\n",
    "print(great_gatsby[:100])\n"
   ]
  },
  {
   "cell_type": "code",
   "execution_count": 3,
   "id": "886ac257",
   "metadata": {},
   "outputs": [],
   "source": [
    "# remove the metadata at the beginning - this is slightly different for each book\n",
    "great_gatsby = great_gatsby[983:]"
   ]
  },
  {
   "cell_type": "markdown",
   "id": "ad39a39e",
   "metadata": {},
   "source": [
    "#### Txt locally\n",
    "If you'd rather use a file on your computer, here's the code -- you just need to save the text file in your local directory, and change the variables throughout. \n",
    "\n",
    "The example is a report from the [Congressional Research Service](https://www.everycrsreport.com/files/2020-11-10_R45178_62d6238caecf6c02ddf495be33b3439f09eed744.pdf) on AI and National Security."
   ]
  },
  {
   "cell_type": "raw",
   "id": "75fb27cd",
   "metadata": {},
   "source": [
    "# read a file you have stored locally\n",
    "f = open(\"2020-11-10_CRS_ArtificialIntelligenceNationalSecurity.txt\", 'r').read()\n",
    "\n",
    "# first, remove unwanted new line and tab characters from the text\n",
    "for char in [\"\\n\", \"\\r\", \"\\d\", \"\\t\"]:\n",
    "    f = f.replace(char, \" \")\n",
    "\n",
    "# check\n",
    "print(f[:100])"
   ]
  },
  {
   "cell_type": "code",
   "execution_count": 4,
   "id": "8c4c9736",
   "metadata": {},
   "outputs": [
    {
     "name": "stdout",
     "output_type": "stream",
     "text": [
      "['then', 'wear', 'the', 'gold', 'hat', 'if', 'that', 'will', 'move', 'her', 'if', 'you', 'can', 'bounce', 'high', 'bounce', 'for', 'her', 'too', 'till', 'she', 'cry', 'lover', 'goldhatted', 'highbouncing', 'lover', 'i', 'must', 'have', 'you', 'thomas', 'parke', 'dinvilliers', 'i', 'in', 'my', 'younger', 'and', 'more', 'vulnerable', 'years', 'my', 'father', 'gave', 'me', 'some', 'advice', 'that', 'ive', 'been']\n"
     ]
    }
   ],
   "source": [
    "# this is simplified for demonstration\n",
    "def sample_clean_text(text: str):\n",
    "    # lowercase\n",
    "    text = text.lower()\n",
    "    \n",
    "    # remove punctuation from text\n",
    "    text = re.sub(r\"[^\\w\\s]\", \"\", text)\n",
    "    \n",
    "    # tokenize the text\n",
    "    tokens = nltk.word_tokenize(text)\n",
    "    \n",
    "    # return your tokens\n",
    "    return tokens\n",
    "\n",
    "# call the function\n",
    "sample_tokens = sample_clean_text(text = great_gatsby)\n",
    "\n",
    "# check\n",
    "print(sample_tokens[:50])"
   ]
  },
  {
   "cell_type": "code",
   "execution_count": 5,
   "id": "94d828dd",
   "metadata": {},
   "outputs": [
    {
     "data": {
      "text/plain": [
       "[('then', 'wear'),\n",
       " ('wear', 'the'),\n",
       " ('the', 'gold'),\n",
       " ('gold', 'hat'),\n",
       " ('hat', 'if'),\n",
       " ('if', 'that'),\n",
       " ('that', 'will'),\n",
       " ('will', 'move'),\n",
       " ('move', 'her'),\n",
       " ('her', 'if')]"
      ]
     },
     "execution_count": 5,
     "metadata": {},
     "output_type": "execute_result"
    }
   ],
   "source": [
    "# create bigrams from the sample tokens\n",
    "my_bigrams = bigrams(sample_tokens)\n",
    "\n",
    "# check\n",
    "list(my_bigrams)[:10]"
   ]
  },
  {
   "cell_type": "markdown",
   "id": "239deb54",
   "metadata": {},
   "source": [
    "# Part 2 - creating an ngram model\n"
   ]
  },
  {
   "cell_type": "code",
   "execution_count": 6,
   "id": "9aba6849",
   "metadata": {},
   "outputs": [],
   "source": [
    "# 2 is for bigrams\n",
    "n = 2\n",
    "#specify the text you want to use\n",
    "text = great_gatsby\n"
   ]
  },
  {
   "cell_type": "markdown",
   "id": "0be61c83",
   "metadata": {},
   "source": [
    "Now we are going to use an NLTK shortcut for preprocessing. This will:\n",
    "* pad all of the sentences with `<s>` and `</s>` to train on sentence boundaries, too.\n",
    "* create both unigrams and bigrams\n",
    "* create a training set and a full vocab to train on\n",
    "\n",
    "We need to give it a pre-tokenized text (we'll use nltk's tokenizer)"
   ]
  },
  {
   "cell_type": "code",
   "execution_count": 7,
   "id": "6276da8d",
   "metadata": {},
   "outputs": [
    {
     "name": "stdout",
     "output_type": "stream",
     "text": [
      "['then', 'wear', 'the', 'gold', 'hat', ',', 'if', 'that', 'will', 'move', 'her', ';', 'if', 'you', 'can', 'bounce', 'high', ',', 'bounce', 'for', 'her', 'too', ',', 'till', 'she', 'cry', '“', 'lover', ',', 'gold-hatted', ',', 'high-bouncing', 'lover', ',', 'i', 'must', 'have', 'you', '!', '”', 'thomas', 'parke', 'd', '’', 'invilliers', 'i', 'in', 'my', 'younger', 'and', 'more', 'vulnerable', 'years', 'my', 'father', 'gave', 'me', 'some', 'advice', 'that', 'i', '’', 've', 'been', 'turning', 'over', 'in', 'my', 'mind', 'ever', 'since', '.']\n"
     ]
    }
   ],
   "source": [
    "# step 1: tokenize the text into sentences\n",
    "sentences = nltk.sent_tokenize(text)\n",
    "\n",
    "# step 2: tokenize each sentence into words\n",
    "tokenized_sentences = [nltk.word_tokenize(sent) for sent in sentences]\n",
    "\n",
    "# step 3: convert each word to lowercase\n",
    "tokenized_text = [[word.lower() for word in sent] for sent in tokenized_sentences]\n",
    "\n",
    "#notice the sentence breaks and what the first 10 items of the tokenized text\n",
    "print(tokenized_text[0])"
   ]
  },
  {
   "cell_type": "markdown",
   "id": "b3b7a3de",
   "metadata": {},
   "source": [
    "Why tokenize sentences and words?\n",
    "We want to be able to retain sentence boundaries to encode that, too."
   ]
  },
  {
   "cell_type": "code",
   "execution_count": 8,
   "id": "9fbc5554",
   "metadata": {},
   "outputs": [
    {
     "name": "stdout",
     "output_type": "stream",
     "text": [
      " Then wear\n"
     ]
    }
   ],
   "source": [
    "# notice what the first 10 items are of the vocabulary\n",
    "print(text[:10])"
   ]
  },
  {
   "cell_type": "code",
   "execution_count": 9,
   "id": "c306af37",
   "metadata": {},
   "outputs": [],
   "source": [
    "# we imported this function from nltk\n",
    "train_data, padded_sents = padded_everygram_pipeline(n, tokenized_text)"
   ]
  },
  {
   "cell_type": "code",
   "execution_count": 10,
   "id": "ca61c962",
   "metadata": {},
   "outputs": [],
   "source": [
    "from nltk.lm import MLE\n",
    "# we imported this function from nltk linear models (lm) \n",
    "# it is for Maximum Likelihood Estimation\n",
    "\n",
    "# MLE is the model we will use\n",
    "lm = MLE(n)"
   ]
  },
  {
   "cell_type": "code",
   "execution_count": 11,
   "id": "c3ecfc43",
   "metadata": {},
   "outputs": [
    {
     "data": {
      "text/plain": [
       "0"
      ]
     },
     "execution_count": 11,
     "metadata": {},
     "output_type": "execute_result"
    }
   ],
   "source": [
    "# currently the vocab length is 0: it has no prior knowledge\n",
    "len(lm.vocab)"
   ]
  },
  {
   "cell_type": "code",
   "execution_count": 12,
   "id": "141795d8",
   "metadata": {},
   "outputs": [
    {
     "data": {
      "text/plain": [
       "6953"
      ]
     },
     "execution_count": 12,
     "metadata": {},
     "output_type": "execute_result"
    }
   ],
   "source": [
    "# fit the model \n",
    "# training data is the bigrams and unigrams \n",
    "# the vocab is all the sentence tokens in the corpus \n",
    "\n",
    "lm.fit(train_data, padded_sents)\n",
    "len(lm.vocab)"
   ]
  },
  {
   "cell_type": "code",
   "execution_count": 13,
   "id": "941458b2",
   "metadata": {},
   "outputs": [
    {
     "name": "stdout",
     "output_type": "stream",
     "text": [
      "('then', 'wear', 'the', 'gold', 'hat', ',', 'if', 'that', 'will', 'move', 'her', ';', 'if', 'you', 'can', 'bounce', 'high', ',', 'bounce', 'for', 'her', 'too', ',', 'till', 'she', 'cry', '“', 'lover', ',', 'gold-hatted', ',', 'high-bouncing', 'lover', ',', 'i', 'must', 'have', 'you', '!', '”', 'thomas', 'parke', 'd', '’', 'invilliers', 'i', 'in', 'my', 'younger', 'and', 'more', 'vulnerable', 'years', 'my', 'father', 'gave', 'me', 'some', 'advice', 'that', 'i', '’', 've', 'been', 'turning', 'over', 'in', 'my', 'mind', 'ever', 'since', '.')\n"
     ]
    }
   ],
   "source": [
    "# inspect the model's vocabulary. \n",
    "# be sure that a sentence you know exists (from tokenized_text) is in the \n",
    "print(lm.vocab.lookup(tokenized_text[0]))"
   ]
  },
  {
   "cell_type": "code",
   "execution_count": 37,
   "id": "d820f1f0",
   "metadata": {},
   "outputs": [
    {
     "name": "stdout",
     "output_type": "stream",
     "text": [
      "('then', 'wear', 'the', 'gold', 'hat', '.', '<UNK>', '.')\n"
     ]
    }
   ],
   "source": [
    "# see what happens when we include a word that is not in the vocab. \n",
    "print(lm.vocab.lookup('then wear the gold hat iphone .'.split()))"
   ]
  },
  {
   "cell_type": "markdown",
   "id": "0207d680",
   "metadata": {},
   "source": [
    "What did the model replace 'iphone' with? \n",
    "\n",
    "Given that it didn't just return an \"out of vocab\" error, what does that mean about our model? "
   ]
  },
  {
   "cell_type": "code",
   "execution_count": 38,
   "id": "da9cf2d4",
   "metadata": {},
   "outputs": [
    {
     "name": "stdout",
     "output_type": "stream",
     "text": [
      "183\n"
     ]
    },
    {
     "data": {
      "text/plain": [
       "0.0026549057726065954"
      ]
     },
     "execution_count": 38,
     "metadata": {},
     "output_type": "execute_result"
    }
   ],
   "source": [
    "# how many times does daisy appear in the model?\n",
    "print(lm.counts['daisy'])\n",
    "\n",
    "# what is the probability of daisy appearing? \n",
    "# this is technically the relative frequency of daisy appearing \n",
    "lm.score('daisy')"
   ]
  },
  {
   "cell_type": "code",
   "execution_count": 39,
   "id": "f9369bed",
   "metadata": {},
   "outputs": [
    {
     "name": "stdout",
     "output_type": "stream",
     "text": [
      "14\n"
     ]
    },
    {
     "data": {
      "text/plain": [
       "0.07650273224043716"
      ]
     },
     "execution_count": 39,
     "metadata": {},
     "output_type": "execute_result"
    }
   ],
   "source": [
    "# how often does (daisy, and) occur and what is the relative frequency?\n",
    "print(lm.counts[['daisy']]['and'])\n",
    "lm.score('and', 'daisy'.split())"
   ]
  },
  {
   "cell_type": "code",
   "execution_count": 41,
   "id": "174f226e",
   "metadata": {},
   "outputs": [
    {
     "data": {
      "text/plain": [
       "0.0"
      ]
     },
     "execution_count": 41,
     "metadata": {},
     "output_type": "execute_result"
    }
   ],
   "source": [
    "# what is the score of 'UNK'? \n",
    "\n",
    "lm.score(\"<UNK>\")"
   ]
  },
  {
   "cell_type": "markdown",
   "id": "d84c0444",
   "metadata": {},
   "source": [
    "Does the relative frequency of 'UNK' change your assumption about how the model behaves? \n",
    "\n",
    "How should we change our model to account for the fact the `<UNK>` words are not accounted for by the model?\n",
    "\n",
    "Note: *Programmatically implementing this solution is beyond the scope of this course.*"
   ]
  },
  {
   "cell_type": "markdown",
   "id": "5d621b05",
   "metadata": {},
   "source": [
    "## Generate text\n",
    "We want to start our sentence with a word, and use that to predict all the words that come after that. We'll specify how long it should be. \n",
    "\n",
    "There is a certain amount of randomness encoded into n-gram models. This prevents a model from becoming entirely deterministic. Maximum Likelihood Estimation without some degree of randomness will only produce the most likely result every time. Setting Random Seed means we will get the same result every time. "
   ]
  },
  {
   "cell_type": "code",
   "execution_count": 57,
   "id": "6e217db6",
   "metadata": {},
   "outputs": [
    {
     "name": "stdout",
     "output_type": "stream",
     "text": [
      "['other', ',', 'but', 'he', 'turned', 'to', 'their', 'cars', 'blocking', 'the', 'dull', 'light', ',', 'and', 'separated', 'only', 'building', 'in', 'the', 'adventitious']\n"
     ]
    }
   ],
   "source": [
    "# generate a 20 word sentence starting with the word, 'daisy'\n",
    "\n",
    "print(lm.generate(20, text_seed= 'daisy', random_seed=42))"
   ]
  },
  {
   "cell_type": "markdown",
   "id": "8e91b7a6",
   "metadata": {},
   "source": [
    "This next code block is just to clean up the tokenized words and make them easier on human eyes. It is literally a detokenizer, which removes some extraneous text markup and reconciles some words back together. "
   ]
  },
  {
   "cell_type": "code",
   "execution_count": 54,
   "id": "5113674e",
   "metadata": {},
   "outputs": [],
   "source": [
    "from nltk.tokenize.treebank import TreebankWordDetokenizer\n",
    "\n",
    "detokenize = TreebankWordDetokenizer().detokenize\n",
    "\n",
    "def generate_sent(lm, num_words, text_seed, random_seed=42):\n",
    "    \"\"\"\n",
    "    :param model: An ngram language model from `nltk.lm.model`.\n",
    "    :param num_words: Max no. of words to generate.\n",
    "    :param random_seed: Seed value for random.\n",
    "    \"\"\"\n",
    "    content = []\n",
    "    for token in lm.generate(num_words, text_seed=text_seed, random_seed=random_seed):\n",
    "        if token == '<s>':\n",
    "            continue\n",
    "        if token == '</s>':\n",
    "            break\n",
    "        content.append(token)\n",
    "    return detokenize(content)"
   ]
  },
  {
   "cell_type": "code",
   "execution_count": 55,
   "id": "2846e34e",
   "metadata": {},
   "outputs": [
    {
     "data": {
      "text/plain": [
       "'other, but he turned to their cars blocking the dull light, and separated only building in the adventitious'"
      ]
     },
     "execution_count": 55,
     "metadata": {},
     "output_type": "execute_result"
    }
   ],
   "source": [
    "# Now generate sentences that look much nicer. \n",
    "generate_sent(lm, 20, text_seed='daisy', random_seed = 42)"
   ]
  },
  {
   "cell_type": "markdown",
   "id": "173ad126",
   "metadata": {},
   "source": [
    "Try a few more sentences, and try out another text. Once you are satisfied with what ngrams can (and cannot) do - post your code to your Github or another site. "
   ]
  }
 ],
 "metadata": {
  "kernelspec": {
   "display_name": "Python 3 (ipykernel)",
   "language": "python",
   "name": "python3"
  },
  "language_info": {
   "codemirror_mode": {
    "name": "ipython",
    "version": 3
   },
   "file_extension": ".py",
   "mimetype": "text/x-python",
   "name": "python",
   "nbconvert_exporter": "python",
   "pygments_lexer": "ipython3",
   "version": "3.11.3"
  }
 },
 "nbformat": 4,
 "nbformat_minor": 5
}
