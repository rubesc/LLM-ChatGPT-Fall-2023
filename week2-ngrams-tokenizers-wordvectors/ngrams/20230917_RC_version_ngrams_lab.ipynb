{
  "cells": [
    {
      "cell_type": "markdown",
      "id": "a51f17aa",
      "metadata": {
        "id": "a51f17aa"
      },
      "source": [
        "## Ngrams lab\n",
        "LLM's and ChatGPT | Fall 2023 | McSweeney | CUNY Graduate Center\n",
        "\n",
        "**Due:** September 17\n",
        "\n",
        "\n",
        "### Background\n",
        "The purpose of this lab is to explore ngram models. Ngram models are a good introduction to language models generally. Language models are probabilistic representations of language. Ngrams have the benefit of being easy to interrogate and relatively easy to understand (as compared to neural networks).\n",
        "\n",
        "In this lab, you will build an ngram model from the corpus of your choosing. The example is with 'The Great Gatsby' from Project Gutenberg, but there's a code block for any text file on your computer  \n",
        "\n",
        "\n",
        "#### Notes\n",
        "This lab is based heavily on the [nltk documentation](https://www.nltk.org/api/nltk.lm.html)"
      ]
    },
    {
      "cell_type": "code",
      "execution_count": null,
      "id": "ef35858b",
      "metadata": {
        "colab": {
          "base_uri": "https://localhost:8080/"
        },
        "id": "ef35858b",
        "outputId": "6d35bde3-fa64-410d-fe34-1d406ac5901b"
      },
      "outputs": [
        {
          "output_type": "stream",
          "name": "stderr",
          "text": [
            "[nltk_data] Downloading package punkt to /root/nltk_data...\n",
            "[nltk_data]   Unzipping tokenizers/punkt.zip.\n"
          ]
        }
      ],
      "source": [
        "import numpy as np\n",
        "import re\n",
        "\n",
        "import nltk\n",
        "# if you haven't downloaded punkt before, you only need to run the line below once\n",
        "# nltk.download('punkt')\n",
        "from nltk import word_tokenize\n",
        "from nltk import sent_tokenize\n",
        "\n",
        "from nltk.util import bigrams\n",
        "from nltk.lm.preprocessing import padded_everygram_pipeline\n",
        "\n",
        "import requests"
      ]
    },
    {
      "cell_type": "markdown",
      "id": "e7017636",
      "metadata": {
        "id": "e7017636"
      },
      "source": [
        "# Part 1\n",
        "An example of how ngrams are generated"
      ]
    },
    {
      "cell_type": "code",
      "execution_count": null,
      "id": "de8054bf",
      "metadata": {
        "colab": {
          "base_uri": "https://localhost:8080/"
        },
        "id": "de8054bf",
        "outputId": "9516c634-c405-459f-f16d-9615eb1a765a"
      },
      "outputs": [
        {
          "output_type": "stream",
          "name": "stdout",
          "text": [
            "﻿The Project Gutenberg eBook of The Great Gatsby        This ebook is for the use of anyone anywhere\n"
          ]
        }
      ],
      "source": [
        "# you will need to leverage the requests package\n",
        "r = requests.get(r'https://www.gutenberg.org/cache/epub/64317/pg64317.txt')\n",
        "great_gatsby = r.text\n",
        "\n",
        "# first, remove unwanted new line and tab characters from the text\n",
        "for char in [\"\\n\", \"\\r\", \"\\d\", \"\\t\"]:\n",
        "    great_gatsby = great_gatsby.replace(char, \" \")\n",
        "\n",
        "# check\n",
        "print(great_gatsby[:100])\n"
      ]
    },
    {
      "cell_type": "code",
      "execution_count": null,
      "id": "886ac257",
      "metadata": {
        "id": "886ac257"
      },
      "outputs": [],
      "source": [
        "# remove the metadata at the beginning - this is slightly different for each book\n",
        "great_gatsby = great_gatsby[983:]"
      ]
    },
    {
      "cell_type": "markdown",
      "id": "ad39a39e",
      "metadata": {
        "id": "ad39a39e"
      },
      "source": [
        "#### Txt locally\n",
        "If you'd rather use a file on your computer, here's the code -- you just need to save the text file in your local directory, and change the variables throughout.\n",
        "\n",
        "The example is a report from the [Congressional Research Service](https://www.everycrsreport.com/files/2020-11-10_R45178_62d6238caecf6c02ddf495be33b3439f09eed744.pdf) on AI and National Security."
      ]
    },
    {
      "cell_type": "raw",
      "id": "75fb27cd",
      "metadata": {
        "id": "75fb27cd"
      },
      "source": [
        "# read a file you have stored locally\n",
        "f = open(\"2020-11-10_CRS_ArtificialIntelligenceNationalSecurity.txt\", 'r').read()\n",
        "\n",
        "# first, remove unwanted new line and tab characters from the text\n",
        "for char in [\"\\n\", \"\\r\", \"\\d\", \"\\t\"]:\n",
        "    f = f.replace(char, \" \")\n",
        "\n",
        "# check\n",
        "print(f[:100])"
      ]
    },
    {
      "cell_type": "code",
      "execution_count": null,
      "id": "8c4c9736",
      "metadata": {
        "colab": {
          "base_uri": "https://localhost:8080/"
        },
        "id": "8c4c9736",
        "outputId": "ca502373-03fc-4e4a-c00b-3e3cbab8d488"
      },
      "outputs": [
        {
          "output_type": "stream",
          "name": "stdout",
          "text": [
            "['then', 'wear', 'the', 'gold', 'hat', 'if', 'that', 'will', 'move', 'her', 'if', 'you', 'can', 'bounce', 'high', 'bounce', 'for', 'her', 'too', 'till', 'she', 'cry', 'lover', 'goldhatted', 'highbouncing', 'lover', 'i', 'must', 'have', 'you', 'thomas', 'parke', 'dinvilliers', 'i', 'in', 'my', 'younger', 'and', 'more', 'vulnerable', 'years', 'my', 'father', 'gave', 'me', 'some', 'advice', 'that', 'ive', 'been']\n"
          ]
        }
      ],
      "source": [
        "# this is simplified for demonstration\n",
        "def sample_clean_text(text: str):\n",
        "    # lowercase\n",
        "    text = text.lower()\n",
        "\n",
        "    # remove punctuation from text\n",
        "    text = re.sub(r\"[^\\w\\s]\", \"\", text)\n",
        "\n",
        "    # tokenize the text\n",
        "    tokens = nltk.word_tokenize(text)\n",
        "\n",
        "    # return your tokens\n",
        "    return tokens\n",
        "\n",
        "# call the function\n",
        "sample_tokens = sample_clean_text(text = great_gatsby)\n",
        "\n",
        "# check\n",
        "print(sample_tokens[:50])"
      ]
    },
    {
      "cell_type": "code",
      "execution_count": null,
      "id": "94d828dd",
      "metadata": {
        "colab": {
          "base_uri": "https://localhost:8080/"
        },
        "id": "94d828dd",
        "outputId": "f9c729e6-fb9d-40aa-8bbb-5f0bfcdc334f"
      },
      "outputs": [
        {
          "output_type": "execute_result",
          "data": {
            "text/plain": [
              "[('then', 'wear'),\n",
              " ('wear', 'the'),\n",
              " ('the', 'gold'),\n",
              " ('gold', 'hat'),\n",
              " ('hat', 'if'),\n",
              " ('if', 'that'),\n",
              " ('that', 'will'),\n",
              " ('will', 'move'),\n",
              " ('move', 'her'),\n",
              " ('her', 'if')]"
            ]
          },
          "metadata": {},
          "execution_count": 9
        }
      ],
      "source": [
        "# create bigrams from the sample tokens\n",
        "my_bigrams = bigrams(sample_tokens)\n",
        "\n",
        "# check\n",
        "list(my_bigrams)[:10]"
      ]
    },
    {
      "cell_type": "markdown",
      "id": "239deb54",
      "metadata": {
        "id": "239deb54"
      },
      "source": [
        "# Part 2 - creating an ngram model\n"
      ]
    },
    {
      "cell_type": "code",
      "execution_count": null,
      "id": "9aba6849",
      "metadata": {
        "id": "9aba6849"
      },
      "outputs": [],
      "source": [
        "# 2 is for bigrams\n",
        "n = 2\n",
        "#specify the text you want to use\n",
        "text = great_gatsby\n"
      ]
    },
    {
      "cell_type": "markdown",
      "id": "0be61c83",
      "metadata": {
        "id": "0be61c83"
      },
      "source": [
        "Now we are going to use an NLTK shortcut for preprocessing. This will:\n",
        "* pad all of the sentences with `<s>` and `</s>` to train on sentence boundaries, too.\n",
        "* create both unigrams and bigrams\n",
        "* create a training set and a full vocab to train on\n",
        "\n",
        "We need to give it a pre-tokenized text (we'll use nltk's tokenizer)"
      ]
    },
    {
      "cell_type": "code",
      "execution_count": null,
      "id": "6276da8d",
      "metadata": {
        "colab": {
          "base_uri": "https://localhost:8080/"
        },
        "id": "6276da8d",
        "outputId": "a04281b6-4ab0-47ab-bf84-3ea0ceb2032c"
      },
      "outputs": [
        {
          "output_type": "stream",
          "name": "stdout",
          "text": [
            "['then', 'wear', 'the', 'gold', 'hat', ',', 'if', 'that', 'will', 'move', 'her', ';', 'if', 'you', 'can', 'bounce', 'high', ',', 'bounce', 'for', 'her', 'too', ',', 'till', 'she', 'cry', '“', 'lover', ',', 'gold-hatted', ',', 'high-bouncing', 'lover', ',', 'i', 'must', 'have', 'you', '!', '”', 'thomas', 'parke', 'd', '’', 'invilliers', 'i', 'in', 'my', 'younger', 'and', 'more', 'vulnerable', 'years', 'my', 'father', 'gave', 'me', 'some', 'advice', 'that', 'i', '’', 've', 'been', 'turning', 'over', 'in', 'my', 'mind', 'ever', 'since', '.']\n"
          ]
        }
      ],
      "source": [
        "# step 1: tokenize the text into sentences\n",
        "sentences = nltk.sent_tokenize(text)\n",
        "\n",
        "# step 2: tokenize each sentence into words\n",
        "tokenized_sentences = [nltk.word_tokenize(sent) for sent in sentences]\n",
        "\n",
        "# step 3: convert each word to lowercase\n",
        "tokenized_text = [[word.lower() for word in sent] for sent in tokenized_sentences]\n",
        "\n",
        "#notice the sentence breaks and what the first 10 items of the tokenized text\n",
        "print(tokenized_text[0])\n",
        "\n",
        "# commas are still here?"
      ]
    },
    {
      "cell_type": "markdown",
      "id": "b3b7a3de",
      "metadata": {
        "id": "b3b7a3de"
      },
      "source": [
        "Why tokenize sentences and words?\n",
        "We want to be able to retain sentence boundaries to encode that, too."
      ]
    },
    {
      "cell_type": "code",
      "execution_count": null,
      "id": "9fbc5554",
      "metadata": {
        "colab": {
          "base_uri": "https://localhost:8080/"
        },
        "id": "9fbc5554",
        "outputId": "aebd4538-028e-4106-adce-ec953ab5b336"
      },
      "outputs": [
        {
          "output_type": "stream",
          "name": "stdout",
          "text": [
            " Then wear the gold hat, if that will move her;    If you can bounce high, bounce for her too,    Ti\n"
          ]
        }
      ],
      "source": [
        "# notice what the first 10 items are of the vocabulary\n",
        "print(text[:100])\n",
        "\n",
        "# This looks like each \"item\" is a character, not neccesarily a vocab"
      ]
    },
    {
      "cell_type": "code",
      "execution_count": null,
      "id": "c306af37",
      "metadata": {
        "id": "c306af37"
      },
      "outputs": [],
      "source": [
        "# we imported this function from nltk\n",
        "train_data, padded_sents = padded_everygram_pipeline(n, tokenized_text)"
      ]
    },
    {
      "cell_type": "code",
      "execution_count": null,
      "id": "ca61c962",
      "metadata": {
        "id": "ca61c962"
      },
      "outputs": [],
      "source": [
        "from nltk.lm import MLE\n",
        "# we imported this function from nltk linear models (lm)\n",
        "# it is for Maximum Likelihood Estimation\n",
        "\n",
        "# MLE is the model we will use\n",
        "lm = MLE(n)"
      ]
    },
    {
      "cell_type": "code",
      "execution_count": null,
      "id": "c3ecfc43",
      "metadata": {
        "colab": {
          "base_uri": "https://localhost:8080/"
        },
        "id": "c3ecfc43",
        "outputId": "c35c3cd1-fb44-4607-a7b3-0e8845a67346"
      },
      "outputs": [
        {
          "output_type": "execute_result",
          "data": {
            "text/plain": [
              "0"
            ]
          },
          "metadata": {},
          "execution_count": 34
        }
      ],
      "source": [
        "# currently the vocab length is 0: it has no prior knowledge\n",
        "len(lm.vocab)"
      ]
    },
    {
      "cell_type": "code",
      "execution_count": null,
      "id": "141795d8",
      "metadata": {
        "colab": {
          "base_uri": "https://localhost:8080/"
        },
        "id": "141795d8",
        "outputId": "9092ca73-04a7-4a32-925d-bdcbfe71d06e"
      },
      "outputs": [
        {
          "output_type": "execute_result",
          "data": {
            "text/plain": [
              "6953"
            ]
          },
          "metadata": {},
          "execution_count": 35
        }
      ],
      "source": [
        "# fit the model\n",
        "# training data is the bigrams and unigrams\n",
        "# the vocab is all the sentence tokens in the corpus\n",
        "\n",
        "lm.fit(train_data, padded_sents)\n",
        "len(lm.vocab)"
      ]
    },
    {
      "cell_type": "code",
      "execution_count": null,
      "id": "941458b2",
      "metadata": {
        "colab": {
          "base_uri": "https://localhost:8080/"
        },
        "id": "941458b2",
        "outputId": "e85ad36d-85eb-4e0e-b58c-5c0625e6411f"
      },
      "outputs": [
        {
          "output_type": "stream",
          "name": "stdout",
          "text": [
            "('then', 'wear', 'the', 'gold', 'hat', ',', 'if', 'that', 'will', 'move', 'her', ';', 'if', 'you', 'can', 'bounce', 'high', ',', 'bounce', 'for', 'her', 'too', ',', 'till', 'she', 'cry', '“', 'lover', ',', 'gold-hatted', ',', 'high-bouncing', 'lover', ',', 'i', 'must', 'have', 'you', '!', '”', 'thomas', 'parke', 'd', '’', 'invilliers', 'i', 'in', 'my', 'younger', 'and', 'more', 'vulnerable', 'years', 'my', 'father', 'gave', 'me', 'some', 'advice', 'that', 'i', '’', 've', 'been', 'turning', 'over', 'in', 'my', 'mind', 'ever', 'since', '.')\n"
          ]
        }
      ],
      "source": [
        "# inspect the model's vocabulary.\n",
        "# be sure that a sentence you know exists (from tokenized_text) is in the\n",
        "print(lm.vocab.lookup(tokenized_text[0]))"
      ]
    },
    {
      "cell_type": "code",
      "execution_count": null,
      "id": "d820f1f0",
      "metadata": {
        "colab": {
          "base_uri": "https://localhost:8080/"
        },
        "id": "d820f1f0",
        "outputId": "a25e5693-65e6-4cde-bf5b-d2fe8cfba721"
      },
      "outputs": [
        {
          "output_type": "stream",
          "name": "stdout",
          "text": [
            "('then', 'wear', 'the', 'gold', 'hat', '<UNK>', '.')\n"
          ]
        }
      ],
      "source": [
        "# see what happens when we include a word that is not in the vocab.\n",
        "print(lm.vocab.lookup('then wear the gold hat iphone .'.split()))"
      ]
    },
    {
      "cell_type": "markdown",
      "id": "0207d680",
      "metadata": {
        "id": "0207d680"
      },
      "source": [
        "What did the model replace 'iphone' with?\n",
        "- \"\"\" U N K \"\"\"\n",
        "\n",
        "\n",
        "\n",
        "Given that it didn't just return an \"out of vocab\" error, what does that mean about our model?"
      ]
    },
    {
      "cell_type": "code",
      "execution_count": null,
      "id": "da9cf2d4",
      "metadata": {
        "colab": {
          "base_uri": "https://localhost:8080/"
        },
        "id": "da9cf2d4",
        "outputId": "976bacdb-8f72-48f6-8bc9-60e7df258ad9"
      },
      "outputs": [
        {
          "output_type": "stream",
          "name": "stdout",
          "text": [
            "183\n"
          ]
        },
        {
          "output_type": "execute_result",
          "data": {
            "text/plain": [
              "0.0026549057726065954"
            ]
          },
          "metadata": {},
          "execution_count": 38
        }
      ],
      "source": [
        "# how many times does daisy appear in the model?\n",
        "print(lm.counts['daisy'])\n",
        "\n",
        "# what is the probability of daisy appearing?\n",
        "# this is technically the relative frequency of daisy appearing\n",
        "lm.score('daisy')"
      ]
    },
    {
      "cell_type": "code",
      "source": [
        "# how many times does daisy appear in the model?\n",
        "print(lm.counts['gold'])\n",
        "\n",
        "# what is the probability of daisy appearing?\n",
        "# this is technically the relative frequency of daisy appearing\n",
        "lm.score('gold')"
      ],
      "metadata": {
        "colab": {
          "base_uri": "https://localhost:8080/"
        },
        "id": "jXVTXL_4pI7x",
        "outputId": "7d35f549-97c2-4e78-8963-eac4e07445e6"
      },
      "id": "jXVTXL_4pI7x",
      "execution_count": null,
      "outputs": [
        {
          "output_type": "stream",
          "name": "stdout",
          "text": [
            "7\n"
          ]
        },
        {
          "output_type": "execute_result",
          "data": {
            "text/plain": [
              "0.00010155377272265665"
            ]
          },
          "metadata": {},
          "execution_count": 39
        }
      ]
    },
    {
      "cell_type": "code",
      "source": [
        "# how many times does daisy appear in the model?\n",
        "print(lm.counts['champagne'])\n",
        "\n",
        "# what is the probability of daisy appearing?\n",
        "# this is technically the relative frequency of daisy appearing\n",
        "lm.score('champagne')"
      ],
      "metadata": {
        "colab": {
          "base_uri": "https://localhost:8080/"
        },
        "id": "IJP_0AqupK-n",
        "outputId": "78956626-d88c-4334-b339-d553185799f0"
      },
      "id": "IJP_0AqupK-n",
      "execution_count": null,
      "outputs": [
        {
          "output_type": "stream",
          "name": "stdout",
          "text": [
            "7\n"
          ]
        },
        {
          "output_type": "execute_result",
          "data": {
            "text/plain": [
              "0.00010155377272265665"
            ]
          },
          "metadata": {},
          "execution_count": 41
        }
      ]
    },
    {
      "cell_type": "code",
      "source": [
        "# how many times does daisy appear in the model?\n",
        "print(lm.counts['miss'])\n",
        "\n",
        "# what is the probability of daisy appearing?\n",
        "# this is technically the relative frequency of daisy appearing\n",
        "lm.score('miss')"
      ],
      "metadata": {
        "colab": {
          "base_uri": "https://localhost:8080/"
        },
        "id": "w89dY_QmpLDo",
        "outputId": "49ca18b3-86f0-4693-df0d-6a8b2e9091df"
      },
      "id": "w89dY_QmpLDo",
      "execution_count": null,
      "outputs": [
        {
          "output_type": "stream",
          "name": "stdout",
          "text": [
            "38\n"
          ]
        },
        {
          "output_type": "execute_result",
          "data": {
            "text/plain": [
              "0.0005512919090658504"
            ]
          },
          "metadata": {},
          "execution_count": 44
        }
      ]
    },
    {
      "cell_type": "code",
      "source": [
        "# how many times does daisy appear in the model?\n",
        "print(lm.counts['love'])\n",
        "\n",
        "# what is the probability of daisy appearing?\n",
        "# this is technically the relative frequency of daisy appearing\n",
        "lm.score('love')"
      ],
      "metadata": {
        "colab": {
          "base_uri": "https://localhost:8080/"
        },
        "id": "nMTxWplXsfJp",
        "outputId": "8fed340d-e93f-4aa6-bc48-c7c2844ade60"
      },
      "id": "nMTxWplXsfJp",
      "execution_count": 49,
      "outputs": [
        {
          "output_type": "stream",
          "name": "stdout",
          "text": [
            "24\n"
          ]
        },
        {
          "output_type": "execute_result",
          "data": {
            "text/plain": [
              "0.0003481843636205371"
            ]
          },
          "metadata": {},
          "execution_count": 49
        }
      ]
    },
    {
      "cell_type": "code",
      "source": [
        "# how many times does daisy appear in the model?\n",
        "print(lm.counts['dress'])\n",
        "\n",
        "# what is the probability of daisy appearing?\n",
        "# this is technically the relative frequency of daisy appearing\n",
        "lm.score('dress')"
      ],
      "metadata": {
        "colab": {
          "base_uri": "https://localhost:8080/"
        },
        "id": "UEC5zsHssim2",
        "outputId": "0d3ae175-1841-4603-e236-c087c0954a37"
      },
      "id": "UEC5zsHssim2",
      "execution_count": 50,
      "outputs": [
        {
          "output_type": "stream",
          "name": "stdout",
          "text": [
            "15\n"
          ]
        },
        {
          "output_type": "execute_result",
          "data": {
            "text/plain": [
              "0.00021761522726283566"
            ]
          },
          "metadata": {},
          "execution_count": 50
        }
      ]
    },
    {
      "cell_type": "code",
      "source": [
        "# how many times does daisy appear in the model?\n",
        "print(lm.counts['tears'])\n",
        "\n",
        "# what is the probability of daisy appearing?\n",
        "# this is technically the relative frequency of daisy appearing\n",
        "lm.score('tears')"
      ],
      "metadata": {
        "colab": {
          "base_uri": "https://localhost:8080/"
        },
        "id": "ivtKVUjYsj_B",
        "outputId": "bf30c607-fd9b-4fef-9605-5aa60018e29e"
      },
      "id": "ivtKVUjYsj_B",
      "execution_count": 51,
      "outputs": [
        {
          "output_type": "stream",
          "name": "stdout",
          "text": [
            "6\n"
          ]
        },
        {
          "output_type": "execute_result",
          "data": {
            "text/plain": [
              "8.704609090513427e-05"
            ]
          },
          "metadata": {},
          "execution_count": 51
        }
      ]
    },
    {
      "cell_type": "code",
      "execution_count": null,
      "id": "f9369bed",
      "metadata": {
        "colab": {
          "base_uri": "https://localhost:8080/"
        },
        "id": "f9369bed",
        "outputId": "a725004d-8349-4d1e-8d76-0cdc945f3327"
      },
      "outputs": [
        {
          "output_type": "stream",
          "name": "stdout",
          "text": [
            "14\n"
          ]
        },
        {
          "output_type": "execute_result",
          "data": {
            "text/plain": [
              "0.07650273224043716"
            ]
          },
          "metadata": {},
          "execution_count": 45
        }
      ],
      "source": [
        "# how often does (daisy, and) occur and what is the relative frequency?\n",
        "print(lm.counts[['daisy']]['and'])\n",
        "lm.score('and', 'daisy'.split())"
      ]
    },
    {
      "cell_type": "code",
      "execution_count": null,
      "id": "174f226e",
      "metadata": {
        "colab": {
          "base_uri": "https://localhost:8080/"
        },
        "id": "174f226e",
        "outputId": "fb8cbd07-6584-4786-d05d-23a483a4450e"
      },
      "outputs": [
        {
          "output_type": "execute_result",
          "data": {
            "text/plain": [
              "0.0"
            ]
          },
          "metadata": {},
          "execution_count": 46
        }
      ],
      "source": [
        "# what is the score of 'UNK'?  --> 0\n",
        "\n",
        "lm.score(\"<UNK>\")"
      ]
    },
    {
      "cell_type": "markdown",
      "id": "d84c0444",
      "metadata": {
        "id": "d84c0444"
      },
      "source": [
        "Does the relative frequency of 'UNK' change your assumption about how the model behaves?\n",
        "\n",
        "How should we change our model to account for the fact the `<UNK>` words are not accounted for by the model?\n",
        "\n",
        "Note: *Programmatically implementing this solution is beyond the scope of this course.*"
      ]
    },
    {
      "cell_type": "markdown",
      "id": "5d621b05",
      "metadata": {
        "id": "5d621b05"
      },
      "source": [
        "## Generate text\n",
        "We want to start our sentence with a word, and use that to predict all the words that come after that. We'll specify how long it should be.\n",
        "\n",
        "There is a certain amount of randomness encoded into n-gram models. This prevents a model from becoming entirely deterministic. Maximum Likelihood Estimation without some degree of randomness will only produce the most likely result every time. Setting Random Seed means we will get the same result every time."
      ]
    },
    {
      "cell_type": "code",
      "execution_count": null,
      "id": "6e217db6",
      "metadata": {
        "colab": {
          "base_uri": "https://localhost:8080/"
        },
        "id": "6e217db6",
        "outputId": "d1ce8aaa-21cf-4299-cd5a-88d85a12d052"
      },
      "outputs": [
        {
          "output_type": "stream",
          "name": "stdout",
          "text": [
            "['other', ',', 'but', 'he', 'turned', 'to', 'their', 'cars', 'blocking', 'the', 'dull', 'light', ',', 'and', 'separated', 'only', 'building', 'in', 'the', 'adventitious']\n"
          ]
        }
      ],
      "source": [
        "# generate a 20 word sentence starting with the word, 'daisy'\n",
        "\n",
        "print(lm.generate(20, text_seed= 'daisy', random_seed=42))"
      ]
    },
    {
      "cell_type": "code",
      "source": [
        "# generate a 20 word sentence starting with the word, 'daisy'\n",
        "\n",
        "print(lm.generate(20, text_seed= 'gold', random_seed=34))"
      ],
      "metadata": {
        "colab": {
          "base_uri": "https://localhost:8080/"
        },
        "id": "rDcOTfFmrT5k",
        "outputId": "69de17e4-d60f-42aa-85b8-9b14f6fae55f"
      },
      "id": "rDcOTfFmrT5k",
      "execution_count": 52,
      "outputs": [
        {
          "output_type": "stream",
          "name": "stdout",
          "text": [
            "['like', 'that', 'was', 'them', 'up', 'at', 'twilight', '.', '</s>', '.', '</s>', '<s>', 'i', 'think', 'so', 'often', ',', 'and', 'gatsby', 'said']\n"
          ]
        }
      ]
    },
    {
      "cell_type": "code",
      "source": [
        "# generate a 20 word sentence starting with the word, 'daisy'\n",
        "\n",
        "print(lm.generate(20, text_seed= 'Driving', random_seed=21))"
      ],
      "metadata": {
        "id": "MOPrXCPVrWD7",
        "colab": {
          "base_uri": "https://localhost:8080/"
        },
        "outputId": "ad347f9a-c951-481e-b49a-4fe532886e6d"
      },
      "id": "MOPrXCPVrWD7",
      "execution_count": 65,
      "outputs": [
        {
          "output_type": "stream",
          "name": "stdout",
          "text": [
            "['<s>', '“', 'please', 'don', '’', 't', 'they', 'sauntered', 'about', 'gatsby.', '”', 'in', 'popular', '.', '</s>', 'and', 'flowers', ',', '”', '“']\n"
          ]
        }
      ]
    },
    {
      "cell_type": "markdown",
      "id": "8e91b7a6",
      "metadata": {
        "id": "8e91b7a6"
      },
      "source": [
        "This next code block is just to clean up the tokenized words and make them easier on human eyes. It is literally a detokenizer, which removes some extraneous text markup and reconciles some words back together."
      ]
    },
    {
      "cell_type": "code",
      "execution_count": 66,
      "id": "5113674e",
      "metadata": {
        "id": "5113674e"
      },
      "outputs": [],
      "source": [
        "from nltk.tokenize.treebank import TreebankWordDetokenizer\n",
        "\n",
        "detokenize = TreebankWordDetokenizer().detokenize\n",
        "\n",
        "def generate_sent(lm, num_words, text_seed, random_seed=42):\n",
        "    \"\"\"\n",
        "    :param model: An ngram language model from `nltk.lm.model`.\n",
        "    :param num_words: Max no. of words to generate.\n",
        "    :param random_seed: Seed value for random.\n",
        "    \"\"\"\n",
        "    content = []\n",
        "    for token in lm.generate(num_words, text_seed=text_seed, random_seed=random_seed):\n",
        "        if token == '<s>':\n",
        "            continue\n",
        "        if token == '</s>':\n",
        "            break\n",
        "        content.append(token)\n",
        "    return detokenize(content)"
      ]
    },
    {
      "cell_type": "code",
      "execution_count": 67,
      "id": "2846e34e",
      "metadata": {
        "colab": {
          "base_uri": "https://localhost:8080/",
          "height": 35
        },
        "id": "2846e34e",
        "outputId": "6cd7a044-59f1-43eb-b6fe-a0a5052b3eaf"
      },
      "outputs": [
        {
          "output_type": "execute_result",
          "data": {
            "text/plain": [
              "'other, but he turned to their cars blocking the dull light, and separated only building in the adventitious'"
            ],
            "application/vnd.google.colaboratory.intrinsic+json": {
              "type": "string"
            }
          },
          "metadata": {},
          "execution_count": 67
        }
      ],
      "source": [
        "# Now generate sentences that look much nicer.\n",
        "generate_sent(lm, 20, text_seed='daisy', random_seed = 42)"
      ]
    },
    {
      "cell_type": "markdown",
      "id": "173ad126",
      "metadata": {
        "id": "173ad126"
      },
      "source": [
        "Try a few more sentences, and try out another text. Once you are satisfied with what ngrams can (and cannot) do - post your code to your Github or another site."
      ]
    },
    {
      "cell_type": "code",
      "source": [
        "# Now generate sentences that look much nicer.\n",
        "generate_sent(lm, 20, text_seed='daisy', random_seed = 42)"
      ],
      "metadata": {
        "id": "U9Uc2KqYn2Mv"
      },
      "id": "U9Uc2KqYn2Mv",
      "execution_count": null,
      "outputs": []
    },
    {
      "cell_type": "code",
      "source": [
        "# Now generate sentences that look much nicer.\n",
        "generate_sent(lm, 20, text_seed='gold', random_seed = 42)"
      ],
      "metadata": {
        "colab": {
          "base_uri": "https://localhost:8080/",
          "height": 35
        },
        "id": "Two9goNXtqk3",
        "outputId": "b72aa0c4-0e2b-4291-df9a-20d655f6678c"
      },
      "id": "Two9goNXtqk3",
      "execution_count": 68,
      "outputs": [
        {
          "output_type": "execute_result",
          "data": {
            "text/plain": [
              "'never be cleared up the rain with a little, as it, and separated only building in the adventitious'"
            ],
            "application/vnd.google.colaboratory.intrinsic+json": {
              "type": "string"
            }
          },
          "metadata": {},
          "execution_count": 68
        }
      ]
    },
    {
      "cell_type": "code",
      "source": [
        "# Now generate sentences that look much nicer.\n",
        "generate_sent(lm, 20, text_seed='your', random_seed = 42)"
      ],
      "metadata": {
        "colab": {
          "base_uri": "https://localhost:8080/",
          "height": 35
        },
        "id": "d3nwkvR6trHW",
        "outputId": "9e326c4d-2f57-4a37-bdd1-4732335df15e"
      },
      "id": "d3nwkvR6trHW",
      "execution_count": 70,
      "outputs": [
        {
          "output_type": "execute_result",
          "data": {
            "text/plain": [
              "'other, but he turned to their cars blocking the dull light, and separated only building in the adventitious'"
            ],
            "application/vnd.google.colaboratory.intrinsic+json": {
              "type": "string"
            }
          },
          "metadata": {},
          "execution_count": 70
        }
      ]
    },
    {
      "cell_type": "code",
      "source": [
        "# Now generate sentences that look much nicer.\n",
        "generate_sent(lm, 20, text_seed='eye', random_seed = 41)"
      ],
      "metadata": {
        "colab": {
          "base_uri": "https://localhost:8080/",
          "height": 35
        },
        "id": "cHqNMt2_tsBJ",
        "outputId": "135b571d-a042-44cf-bd69-a63fe5dd5c6e"
      },
      "id": "cHqNMt2_tsBJ",
      "execution_count": 73,
      "outputs": [
        {
          "output_type": "execute_result",
          "data": {
            "text/plain": [
              "'for a dark trees.'"
            ],
            "application/vnd.google.colaboratory.intrinsic+json": {
              "type": "string"
            }
          },
          "metadata": {},
          "execution_count": 73
        }
      ]
    },
    {
      "cell_type": "code",
      "source": [
        "# Now generate sentences that look much nicer.\n",
        "generate_sent(lm, 20, text_seed='rain', random_seed = 4)"
      ],
      "metadata": {
        "colab": {
          "base_uri": "https://localhost:8080/",
          "height": 35
        },
        "id": "_lbyxweqtuHZ",
        "outputId": "db03dfc6-09ad-4f9d-b895-9ab9e4be8e34"
      },
      "id": "_lbyxweqtuHZ",
      "execution_count": 75,
      "outputs": [
        {
          "output_type": "execute_result",
          "data": {
            "text/plain": [
              "'bridge, grew more, hard to the sidewalks and newspaper.'"
            ],
            "application/vnd.google.colaboratory.intrinsic+json": {
              "type": "string"
            }
          },
          "metadata": {},
          "execution_count": 75
        }
      ]
    },
    {
      "cell_type": "code",
      "source": [],
      "metadata": {
        "id": "VVVBMPxgt9B1"
      },
      "id": "VVVBMPxgt9B1",
      "execution_count": null,
      "outputs": []
    }
  ],
  "metadata": {
    "kernelspec": {
      "display_name": "Python 3 (ipykernel)",
      "language": "python",
      "name": "python3"
    },
    "language_info": {
      "codemirror_mode": {
        "name": "ipython",
        "version": 3
      },
      "file_extension": ".py",
      "mimetype": "text/x-python",
      "name": "python",
      "nbconvert_exporter": "python",
      "pygments_lexer": "ipython3",
      "version": "3.11.3"
    },
    "colab": {
      "provenance": []
    }
  },
  "nbformat": 4,
  "nbformat_minor": 5
}